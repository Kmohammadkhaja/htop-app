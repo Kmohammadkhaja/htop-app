{
  "nbformat": 4,
  "nbformat_minor": 0,
  "metadata": {
    "colab": {
      "provenance": [],
      "include_colab_link": true
    },
    "kernelspec": {
      "name": "python3",
      "display_name": "Python 3"
    },
    "language_info": {
      "name": "python"
    }
  },
  "cells": [
    {
      "cell_type": "markdown",
      "metadata": {
        "id": "view-in-github",
        "colab_type": "text"
      },
      "source": [
        "<a href=\"https://colab.research.google.com/github/Kmohammadkhaja/htop-app/blob/main/Copy_of_Python_onl_2.ipynb\" target=\"_parent\"><img src=\"https://colab.research.google.com/assets/colab-badge.svg\" alt=\"Open In Colab\"/></a>"
      ]
    },
    {
      "cell_type": "markdown",
      "source": [
        "# Introduction to Python\n",
        "\n",
        "Python is a high-level, interpreted, and general-purpose programming language that emphasizes code readability and simplicity. It was created by Guido van Rossum in 1991.\n",
        "\n",
        "## Key Features of Python\n",
        "1. Easy to Learn and Use.\n",
        "2. High-level programming language (language that is closer to human language and farther from machine language. It allows programmers to write code that is easy to read, write, and maintain, without worrying about the complex details of the computer’s hardware.)\n",
        "\n",
        "3. Interpreted Language: An interpreted language is a programming language in which the code is executed line by line by an interpreter.\n",
        "4. Dynamically Typed: do not need to explicitly declare the type of a variable. The interpreter automatically determines the variable type at runtime\n",
        "5. Extensive Libraries\n",
        "6. Cross-Platform\n",
        "\n",
        "## Why Python is Popular\n",
        "- Simple syntax\n",
        "- Large community\n",
        "- Open-source\n",
        "- Great for beginners\n",
        "- Widely used in AI, ML, Web Dev, Automation\n",
        "\n",
        "## Python Applications\n",
        "1. Web Development (Django, Flask)\n",
        "2. Data Science (NumPy, Pandas, Matplotlib)\n",
        "3. AI / ML (TensorFlow, PyTorch)\n",
        "4. Automation / Scripting\n",
        "5. Game Development (Pygame)\n",
        "\n"
      ],
      "metadata": {
        "id": "M9SNWdjBtv-x"
      }
    },
    {
      "cell_type": "code",
      "source": [
        "a=5\n",
        "b=3\n",
        "print(a+b)"
      ],
      "metadata": {
        "id": "zRLIAHzECdfj"
      },
      "execution_count": null,
      "outputs": []
    },
    {
      "cell_type": "markdown",
      "source": [],
      "metadata": {
        "id": "fCQH3VzTdb69"
      }
    },
    {
      "cell_type": "code",
      "source": [],
      "metadata": {
        "id": "ptPo3qV2Cdij"
      },
      "execution_count": null,
      "outputs": []
    },
    {
      "cell_type": "code",
      "source": [],
      "metadata": {
        "id": "gPTB0Zq6Cdx7"
      },
      "execution_count": null,
      "outputs": []
    },
    {
      "cell_type": "code",
      "source": [],
      "metadata": {
        "id": "gOJSZPnmCd90"
      },
      "execution_count": null,
      "outputs": []
    },
    {
      "cell_type": "markdown",
      "source": [],
      "metadata": {
        "id": "bwGfZ8ekksqe"
      }
    },
    {
      "cell_type": "markdown",
      "metadata": {
        "id": "c15e70c8"
      },
      "source": [
        "# Identifiers"
      ]
    },
    {
      "cell_type": "markdown",
      "metadata": {
        "id": "41911e15"
      },
      "source": [
        "* An identifier is the name we provide to an entity such as a function or variable.\n",
        "* It helps in differentiating one entity from other.\n",
        "  \n",
        "_There are certain dos and don'ts to observe while picking an identifier._"
      ]
    },
    {
      "cell_type": "code",
      "source": [
        "# Identifier cannot begin with a digit\n",
        "2var=45"
      ],
      "metadata": {
        "colab": {
          "base_uri": "https://localhost:8080/",
          "height": 106
        },
        "id": "KY5e_1EwenIG",
        "outputId": "6deb14cd-879c-45af-fbe4-dcaeaafae018"
      },
      "execution_count": null,
      "outputs": [
        {
          "output_type": "error",
          "ename": "SyntaxError",
          "evalue": "invalid decimal literal (ipython-input-3493233270.py, line 2)",
          "traceback": [
            "\u001b[0;36m  File \u001b[0;32m\"/tmp/ipython-input-3493233270.py\"\u001b[0;36m, line \u001b[0;32m2\u001b[0m\n\u001b[0;31m    2var=45\u001b[0m\n\u001b[0m    ^\u001b[0m\n\u001b[0;31mSyntaxError\u001b[0m\u001b[0;31m:\u001b[0m invalid decimal literal\n"
          ]
        }
      ]
    },
    {
      "cell_type": "code",
      "source": [
        "# It cannot contain a special symbol except _\n",
        "d@rt=89\n"
      ],
      "metadata": {
        "colab": {
          "base_uri": "https://localhost:8080/",
          "height": 106
        },
        "id": "zxtUKitUenMt",
        "outputId": "c7c3c2a0-6ec4-4a68-bfc0-f2ca8cf233d2"
      },
      "execution_count": null,
      "outputs": [
        {
          "output_type": "error",
          "ename": "SyntaxError",
          "evalue": "cannot assign to expression here. Maybe you meant '==' instead of '='? (ipython-input-335597591.py, line 2)",
          "traceback": [
            "\u001b[0;36m  File \u001b[0;32m\"/tmp/ipython-input-335597591.py\"\u001b[0;36m, line \u001b[0;32m2\u001b[0m\n\u001b[0;31m    d@rt=89\u001b[0m\n\u001b[0m    ^\u001b[0m\n\u001b[0;31mSyntaxError\u001b[0m\u001b[0;31m:\u001b[0m cannot assign to expression here. Maybe you meant '==' instead of '='?\n"
          ]
        }
      ]
    },
    {
      "cell_type": "code",
      "source": [
        "sd_=67"
      ],
      "metadata": {
        "id": "utCcr70AenSm"
      },
      "execution_count": null,
      "outputs": []
    },
    {
      "cell_type": "code",
      "source": [
        "# Keywords cannot be used as identifier\n",
        "import=67"
      ],
      "metadata": {
        "colab": {
          "base_uri": "https://localhost:8080/",
          "height": 106
        },
        "id": "MACtW-0uenUe",
        "outputId": "0dcd9189-37a4-4e09-91dd-ed89dbb32c2f"
      },
      "execution_count": null,
      "outputs": [
        {
          "output_type": "error",
          "ename": "SyntaxError",
          "evalue": "invalid syntax (ipython-input-411707067.py, line 2)",
          "traceback": [
            "\u001b[0;36m  File \u001b[0;32m\"/tmp/ipython-input-411707067.py\"\u001b[0;36m, line \u001b[0;32m2\u001b[0m\n\u001b[0;31m    import=67\u001b[0m\n\u001b[0m          ^\u001b[0m\n\u001b[0;31mSyntaxError\u001b[0m\u001b[0;31m:\u001b[0m invalid syntax\n"
          ]
        }
      ]
    },
    {
      "cell_type": "code",
      "source": [],
      "metadata": {
        "id": "Qv1HYEOhenX7"
      },
      "execution_count": null,
      "outputs": []
    },
    {
      "cell_type": "markdown",
      "source": [
        "var2---valid\n",
        "\n",
        "ghy$t--invalid\n",
        "\n",
        "34pot----invalid\n",
        "\n",
        "break---invalid---keyword\n",
        "\n",
        "jkl_kl---valid"
      ],
      "metadata": {
        "id": "r9aXRhzKgOWi"
      }
    },
    {
      "cell_type": "markdown",
      "source": [
        "# This is a text cell\n",
        "## this is second line\n",
        "### Third"
      ],
      "metadata": {
        "id": "JUKoKb9ZdlpK"
      }
    },
    {
      "cell_type": "code",
      "source": [
        "# This code is about 2 numbers\n",
        "# Single line comment\n",
        "\n",
        "'''This is a multi line comment\n",
        "this is second line of the comment'''\n",
        "a=4\n",
        "# this is a comment shortcut is  ctrl + /\n",
        "# shortcut for running the cell is shift + enter"
      ],
      "metadata": {
        "id": "dz-cguazk05t"
      },
      "execution_count": null,
      "outputs": []
    },
    {
      "cell_type": "code",
      "source": [
        "# Hey how are you"
      ],
      "metadata": {
        "id": "nKtQeG6-eEOn"
      },
      "execution_count": null,
      "outputs": []
    },
    {
      "cell_type": "markdown",
      "source": [],
      "metadata": {
        "id": "NVbHjMgok1IG"
      }
    },
    {
      "cell_type": "markdown",
      "metadata": {
        "id": "cd840a4f"
      },
      "source": [
        "# Keywords\n",
        "* Keywords are reserved words in Python with designated meanings.\n",
        "* These cannot be used as identifiers to name objects."
      ]
    },
    {
      "cell_type": "markdown",
      "source": [],
      "metadata": {
        "id": "i4zx0i2UlART"
      }
    },
    {
      "cell_type": "code",
      "source": [
        "import keyword\n",
        "(keyword.kwlist)"
      ],
      "metadata": {
        "colab": {
          "base_uri": "https://localhost:8080/"
        },
        "id": "mSxqSdS4fjbw",
        "outputId": "477cb649-7b90-4b8f-e5b4-9d95e1f93e64"
      },
      "execution_count": null,
      "outputs": [
        {
          "output_type": "execute_result",
          "data": {
            "text/plain": [
              "['False',\n",
              " 'None',\n",
              " 'True',\n",
              " 'and',\n",
              " 'as',\n",
              " 'assert',\n",
              " 'async',\n",
              " 'await',\n",
              " 'break',\n",
              " 'class',\n",
              " 'continue',\n",
              " 'def',\n",
              " 'del',\n",
              " 'elif',\n",
              " 'else',\n",
              " 'except',\n",
              " 'finally',\n",
              " 'for',\n",
              " 'from',\n",
              " 'global',\n",
              " 'if',\n",
              " 'import',\n",
              " 'in',\n",
              " 'is',\n",
              " 'lambda',\n",
              " 'nonlocal',\n",
              " 'not',\n",
              " 'or',\n",
              " 'pass',\n",
              " 'raise',\n",
              " 'return',\n",
              " 'try',\n",
              " 'while',\n",
              " 'with',\n",
              " 'yield']"
            ]
          },
          "metadata": {},
          "execution_count": 15
        }
      ]
    },
    {
      "cell_type": "markdown",
      "metadata": {
        "id": "97b903b7"
      },
      "source": [
        "# Comments\n",
        "The use of comments in a code cell can explain the method or operation in use. Commenting helps to\n",
        "- Improve readability\n",
        "- Make for a quick review of the work"
      ]
    },
    {
      "cell_type": "markdown",
      "metadata": {
        "id": "a76869bd"
      },
      "source": [
        "# Statements\n",
        "* Instructions that a Python interpreter can execute"
      ]
    },
    {
      "cell_type": "code",
      "source": [
        "a=5\n",
        "b=5\n",
        "c=10\n",
        "sum1=a+b+c #a single line statement\n",
        "sum1"
      ],
      "metadata": {
        "colab": {
          "base_uri": "https://localhost:8080/"
        },
        "id": "qdgFp_G9lE-v",
        "outputId": "5310437c-96a0-4877-8884-3a584aa63b5a"
      },
      "execution_count": null,
      "outputs": [
        {
          "output_type": "execute_result",
          "data": {
            "text/plain": [
              "20"
            ]
          },
          "metadata": {},
          "execution_count": 17
        }
      ]
    },
    {
      "cell_type": "code",
      "source": [
        "sum2= a+b+\\\n",
        "c\n",
        "sum2"
      ],
      "metadata": {
        "colab": {
          "base_uri": "https://localhost:8080/"
        },
        "id": "2Te4hWfKlVn9",
        "outputId": "67d726a3-ae9e-4775-c415-596d5de14fac"
      },
      "execution_count": null,
      "outputs": [
        {
          "output_type": "execute_result",
          "data": {
            "text/plain": [
              "20"
            ]
          },
          "metadata": {},
          "execution_count": 23
        }
      ]
    },
    {
      "cell_type": "markdown",
      "metadata": {
        "id": "a48922a0"
      },
      "source": [
        "# Variables"
      ]
    },
    {
      "cell_type": "markdown",
      "metadata": {
        "id": "33961071"
      },
      "source": [
        "*  A Python variable creates a reserved memory location to store a value.\n",
        "*  A variable can be initialised by assigning some value to begin with."
      ]
    },
    {
      "cell_type": "code",
      "source": [
        "a=3\n",
        "id(a) #location of the stored variable\n"
      ],
      "metadata": {
        "colab": {
          "base_uri": "https://localhost:8080/"
        },
        "id": "-RuM_zX_lpVD",
        "outputId": "164a84b9-66bd-4cd3-da00-56d70c406caf"
      },
      "execution_count": null,
      "outputs": [
        {
          "output_type": "execute_result",
          "data": {
            "text/plain": [
              "11654440"
            ]
          },
          "metadata": {},
          "execution_count": 25
        }
      ]
    },
    {
      "cell_type": "code",
      "source": [
        "b=89\n",
        "id(b)"
      ],
      "metadata": {
        "colab": {
          "base_uri": "https://localhost:8080/"
        },
        "id": "R4xJ9dCJmdBt",
        "outputId": "c0a2fd2d-4d80-4d89-b9f6-0bcbba0fa40a"
      },
      "execution_count": null,
      "outputs": [
        {
          "output_type": "execute_result",
          "data": {
            "text/plain": [
              "11657192"
            ]
          },
          "metadata": {},
          "execution_count": 26
        }
      ]
    },
    {
      "cell_type": "code",
      "source": [
        "j,k,l=10,20,30"
      ],
      "metadata": {
        "id": "p_VAa4SrmmX-"
      },
      "execution_count": null,
      "outputs": []
    },
    {
      "cell_type": "code",
      "source": [
        "k"
      ],
      "metadata": {
        "colab": {
          "base_uri": "https://localhost:8080/"
        },
        "id": "G19nSFBimuAv",
        "outputId": "b35dcaad-e68c-4a34-8dbc-c2bb6c7bfb19"
      },
      "execution_count": null,
      "outputs": [
        {
          "output_type": "execute_result",
          "data": {
            "text/plain": [
              "20"
            ]
          },
          "metadata": {},
          "execution_count": 28
        }
      ]
    },
    {
      "cell_type": "code",
      "source": [
        "p=q=r=7"
      ],
      "metadata": {
        "id": "PmbtdgDZm2-0"
      },
      "execution_count": null,
      "outputs": []
    },
    {
      "cell_type": "code",
      "source": [
        "r"
      ],
      "metadata": {
        "colab": {
          "base_uri": "https://localhost:8080/"
        },
        "id": "SpYBnE7tm8EB",
        "outputId": "afd7a4de-3a03-4b6d-8e9e-346da35e3c74"
      },
      "execution_count": null,
      "outputs": [
        {
          "output_type": "execute_result",
          "data": {
            "text/plain": [
              "7"
            ]
          },
          "metadata": {},
          "execution_count": 31
        }
      ]
    },
    {
      "cell_type": "markdown",
      "metadata": {
        "id": "37f99688"
      },
      "source": [
        "# Data Types"
      ]
    },
    {
      "cell_type": "markdown",
      "source": [
        "## Numerical"
      ],
      "metadata": {
        "id": "EQZlC4k-oDQV"
      }
    },
    {
      "cell_type": "code",
      "source": [
        "# Integers are represented by int\n",
        "val1=2\n",
        "type(val1)"
      ],
      "metadata": {
        "id": "XbyuDBtils8I",
        "colab": {
          "base_uri": "https://localhost:8080/"
        },
        "outputId": "1d0dd35c-7e41-4b32-9158-1cea98b26465"
      },
      "execution_count": null,
      "outputs": [
        {
          "output_type": "execute_result",
          "data": {
            "text/plain": [
              "int"
            ]
          },
          "metadata": {},
          "execution_count": 34
        }
      ]
    },
    {
      "cell_type": "code",
      "source": [
        "val2=-5676\n",
        "type(val2)"
      ],
      "metadata": {
        "id": "SwoVjkxDltAq",
        "colab": {
          "base_uri": "https://localhost:8080/"
        },
        "outputId": "b9f531fa-1cb0-47aa-90f4-ef3ef2d8a87a"
      },
      "execution_count": null,
      "outputs": [
        {
          "output_type": "execute_result",
          "data": {
            "text/plain": [
              "int"
            ]
          },
          "metadata": {},
          "execution_count": 35
        }
      ]
    },
    {
      "cell_type": "code",
      "source": [
        "# Decimal point numbers are represented by float\n",
        "var3=7.9\n",
        "type(var3)"
      ],
      "metadata": {
        "id": "ES4LT11YltT8",
        "colab": {
          "base_uri": "https://localhost:8080/"
        },
        "outputId": "c1665ba8-ecd9-4258-b20d-2676ec7102fa"
      },
      "execution_count": null,
      "outputs": [
        {
          "output_type": "execute_result",
          "data": {
            "text/plain": [
              "float"
            ]
          },
          "metadata": {},
          "execution_count": 36
        }
      ]
    },
    {
      "cell_type": "code",
      "source": [
        "fl=-4.0\n",
        "type(fl)"
      ],
      "metadata": {
        "id": "p4926Zc1ltZW",
        "colab": {
          "base_uri": "https://localhost:8080/"
        },
        "outputId": "0a075f7c-1a27-44a1-a218-a03e33291286"
      },
      "execution_count": null,
      "outputs": [
        {
          "output_type": "execute_result",
          "data": {
            "text/plain": [
              "float"
            ]
          },
          "metadata": {},
          "execution_count": 38
        }
      ]
    },
    {
      "cell_type": "markdown",
      "source": [],
      "metadata": {
        "id": "bLGQw6Ukltp8"
      }
    },
    {
      "cell_type": "code",
      "source": [
        "# complex data type\n",
        "com=2+9j\n",
        "type(com)"
      ],
      "metadata": {
        "colab": {
          "base_uri": "https://localhost:8080/"
        },
        "id": "4j5je_z2pAlz",
        "outputId": "30606c53-df8e-49ea-8b95-5165d1e53a8d"
      },
      "execution_count": null,
      "outputs": [
        {
          "output_type": "execute_result",
          "data": {
            "text/plain": [
              "complex"
            ]
          },
          "metadata": {},
          "execution_count": 39
        }
      ]
    },
    {
      "cell_type": "code",
      "source": [],
      "metadata": {
        "id": "BXXKdXafpX1T"
      },
      "execution_count": null,
      "outputs": []
    },
    {
      "cell_type": "markdown",
      "source": [
        "## Boolean"
      ],
      "metadata": {
        "id": "k8MNRt9apYuh"
      }
    },
    {
      "cell_type": "code",
      "source": [
        "# True and False ---- represented by bool\n",
        "# False is also represented by number 0\n",
        "ap=True\n",
        "type(ap)"
      ],
      "metadata": {
        "colab": {
          "base_uri": "https://localhost:8080/"
        },
        "id": "a9hNMGiPpdoN",
        "outputId": "54a4f193-2745-49c1-962c-9c90faae285d"
      },
      "execution_count": null,
      "outputs": [
        {
          "output_type": "execute_result",
          "data": {
            "text/plain": [
              "bool"
            ]
          },
          "metadata": {},
          "execution_count": 41
        }
      ]
    },
    {
      "cell_type": "code",
      "source": [
        "bool(78)"
      ],
      "metadata": {
        "colab": {
          "base_uri": "https://localhost:8080/"
        },
        "id": "-PeER2woqCR5",
        "outputId": "fd5a3aa3-f0e4-4867-da66-5df4985955a1"
      },
      "execution_count": null,
      "outputs": [
        {
          "output_type": "execute_result",
          "data": {
            "text/plain": [
              "True"
            ]
          },
          "metadata": {},
          "execution_count": 42
        }
      ]
    },
    {
      "cell_type": "code",
      "source": [
        "bool(0)"
      ],
      "metadata": {
        "colab": {
          "base_uri": "https://localhost:8080/"
        },
        "id": "nCZKbbtzqNxT",
        "outputId": "a1dcb8af-5f9d-40fb-dbcb-02d6e65c015b"
      },
      "execution_count": null,
      "outputs": [
        {
          "output_type": "execute_result",
          "data": {
            "text/plain": [
              "False"
            ]
          },
          "metadata": {},
          "execution_count": 43
        }
      ]
    },
    {
      "cell_type": "code",
      "source": [
        "bool(-1)"
      ],
      "metadata": {
        "colab": {
          "base_uri": "https://localhost:8080/"
        },
        "id": "kCkQwSEtqPeW",
        "outputId": "48dfbe51-da70-4dfc-8f01-7468a9623284"
      },
      "execution_count": null,
      "outputs": [
        {
          "output_type": "execute_result",
          "data": {
            "text/plain": [
              "True"
            ]
          },
          "metadata": {},
          "execution_count": 44
        }
      ]
    },
    {
      "cell_type": "markdown",
      "metadata": {
        "id": "ed364f92"
      },
      "source": [
        "# Typecasting"
      ]
    },
    {
      "cell_type": "markdown",
      "metadata": {
        "id": "1eee6a0d"
      },
      "source": [
        "Type Casting is the process of a variable's data type converted into another type in order for an operation to be performed.\n",
        "\n",
        "* There are 2 ways in which typecasting occurs:\n",
        "\n",
        "1) Autotypecasting\n",
        "\n",
        "2) Forced Typecasting"
      ]
    },
    {
      "cell_type": "markdown",
      "metadata": {
        "id": "202310c5"
      },
      "source": [
        "## Auto Typecasting\n",
        "* The Python interpreter automatically converts one data type to another without any user involvement."
      ]
    },
    {
      "cell_type": "code",
      "source": [
        "# Auto typecasting\n",
        "a=9.8\n",
        "b=2\n",
        "sum=a+b\n",
        "\n",
        "sum"
      ],
      "metadata": {
        "colab": {
          "base_uri": "https://localhost:8080/"
        },
        "id": "2YjJUNdRqW_5",
        "outputId": "a19568b2-b509-44b1-8967-a5fe2bd2f986"
      },
      "execution_count": null,
      "outputs": [
        {
          "output_type": "execute_result",
          "data": {
            "text/plain": [
              "11.8"
            ]
          },
          "metadata": {},
          "execution_count": 45
        }
      ]
    },
    {
      "cell_type": "code",
      "source": [
        "# forced typecasting\n",
        "a=9.8\n",
        "b=2\n",
        "sum=int(a+b)   #forced it to integer value\n"
      ],
      "metadata": {
        "id": "QZgKq0_Wqhvy"
      },
      "execution_count": null,
      "outputs": []
    },
    {
      "cell_type": "code",
      "source": [],
      "metadata": {
        "id": "RNMR_UTuq_Zo"
      },
      "execution_count": null,
      "outputs": []
    },
    {
      "cell_type": "markdown",
      "source": [
        "# String\n",
        "\n",
        "Sequence of characters. It is represented by str. To assign a string we enclose it within quotation marks  \"\" or ''."
      ],
      "metadata": {
        "id": "SV8CYeNfrm9x"
      }
    },
    {
      "cell_type": "code",
      "source": [
        "sen=\"This is first string\"\n",
        "type(sen)"
      ],
      "metadata": {
        "colab": {
          "base_uri": "https://localhost:8080/"
        },
        "id": "SCbMhUrBr7Wv",
        "outputId": "e395847a-5fb9-4609-85e2-4c21ff42e020"
      },
      "execution_count": null,
      "outputs": [
        {
          "output_type": "execute_result",
          "data": {
            "text/plain": [
              "str"
            ]
          },
          "metadata": {},
          "execution_count": 47
        }
      ]
    },
    {
      "cell_type": "code",
      "source": [
        "sen2=\"23\"\n",
        "type(sen2)"
      ],
      "metadata": {
        "colab": {
          "base_uri": "https://localhost:8080/"
        },
        "id": "w8XsYMyesCPu",
        "outputId": "aace83bd-e57f-4549-eee2-8352ca8e7c1f"
      },
      "execution_count": null,
      "outputs": [
        {
          "output_type": "execute_result",
          "data": {
            "text/plain": [
              "str"
            ]
          },
          "metadata": {},
          "execution_count": 48
        }
      ]
    },
    {
      "cell_type": "code",
      "source": [
        "sen3=\"asdfg5433*\"\n",
        "type(sen3)"
      ],
      "metadata": {
        "colab": {
          "base_uri": "https://localhost:8080/"
        },
        "id": "iDAkfE1_sK4l",
        "outputId": "d72e0506-afec-4ec8-b262-98b66c1e3bc1"
      },
      "execution_count": null,
      "outputs": [
        {
          "output_type": "execute_result",
          "data": {
            "text/plain": [
              "str"
            ]
          },
          "metadata": {},
          "execution_count": 49
        }
      ]
    },
    {
      "cell_type": "code",
      "source": [],
      "metadata": {
        "id": "h9ldx1G4sUOa"
      },
      "execution_count": null,
      "outputs": []
    },
    {
      "cell_type": "code",
      "source": [
        "sen=\"This is first string\""
      ],
      "metadata": {
        "id": "tbWZpWkwtECk"
      },
      "execution_count": null,
      "outputs": []
    }
  ]
}